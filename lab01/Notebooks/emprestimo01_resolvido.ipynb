{
 "cells": [
  {
   "cell_type": "markdown",
   "metadata": {},
   "source": [
    "# Memória, Variáveis, Comunicação e Estado de um Programa\n",
    "\n",
    "Há várias possíveis estratégias para usar a memória de um computador para se realizar a comunicação entre partes dele -- por exemplo, entre duas funções -- e para se manter o **estado atual** de execução de um programa. Dentre elas, podemos destacar o uso de variáveis locais, globais e parâmetros entre funções.\n",
    "\n",
    "Vamos fazer aqui um exercício nesse contexto e você será conduzido a experimentar cada uma dessas estratégias, mesmo que em algumas ocasiões não seja a forma recomendada de se desenvolver um programa.\n",
    "\n",
    "\n",
    "# Exercício do Empréstimo\n",
    "\n",
    "Em um financiamento com juros compostos e número de parcelas fixas parte-se dos seguintes parâmetros:\n",
    "* `S` - valor da primeira parcela\n",
    "* `N` - número de parcelas\n",
    "* `J` - percentual de juros mensal\n",
    "\n",
    "A primeira parcela a ser paga do financiamento é sempre igual a `S`. A partir daí é feita uma atualização mensal da parcela, em que cada nova parcela é calculada a partir da parcela do mês anterior, conforme a fórmula:\n",
    "\n",
    "> Parcela<sub>mês</sub> = Parcela<sub>mês-1</sub> * (1 + `J` / 100)\n",
    "\n",
    "O financiamento encerra quando as `N` parcelas são pagas.\n",
    "\n",
    "Exemplo:\n",
    "* `S`: 200\n",
    "* `N`: 5\n",
    "* `J`: 1%\n",
    "\n",
    "Parcelas do financiamento:\n",
    "`200`; `202`; `204.02`; `206.06`; `208.12`"
   ]
  },
  {
   "cell_type": "markdown",
   "metadata": {},
   "source": [
    "## Exercício Parte 1 - Escrevendo um Programa\n",
    "\n",
    "Dado o problema descrito, escreva um programa que calcule as parcelas de um empréstimo para os seguintes valores:\n",
    "* `S`: 200\n",
    "* `N`: 5\n",
    "* `J`: 1%\n",
    "\n",
    "Esses valores podem ser atribuídos na função `main`, não é necessária leitura pelo teclado. Entretanto, o programa deve ser genérico, ou seja, funcionará para qualquer outro valor atribuído às 3 variáveis."
   ]
  },
  {
   "cell_type": "code",
   "execution_count": 2,
   "metadata": {},
   "outputs": [
    {
     "name": "stdout",
     "output_type": "stream",
     "text": [
      "200.00 202.00 204.02 206.06 208.12 "
     ]
    }
   ],
   "source": [
    "#include <stdio.h>\n",
    "\n",
    "int main () {\n",
    "    double S = 200;\n",
    "    int N = 5;\n",
    "    double J = 1;\n",
    "    double valor = S; //Valor guarda o valor da parcela atual (que começa como sendo a primeira)\n",
    "    for (int i = 1; i <= N; i++) {\n",
    "        printf(\"%.2lf \", valor);\n",
    "        valor = valor * (1 + J/100); //valor recebe o valor da próxima parcela\n",
    "    }\n",
    "    return 0;\n",
    "}"
   ]
  },
  {
   "cell_type": "markdown",
   "metadata": {},
   "source": [
    "## Exercício Parte 2 - Escrevendo um Módulo (Função)\n",
    "\n",
    "Reescreva o código acima de forma que seu programa faça uso de uma função `proximaParcela` que seja responsável pelo cálculo de cada parcela X do empréstimo.\n",
    "\n",
    "Utilize as boas práticas de modularização que você aprendeu, evitando dependências do módulo com o programa em que está inserida. Considere que esta função poderia ser eventualmente reusada em outro programa e deveria ser possível fazê-lo sem que ela dependa de nada do programa em que irá se inserir.\n",
    "\n",
    "A função deve apenas calcular uma única parcela em cada chamada, portanto, ficará a cargo da função principal que chama `proximaParcela` realizar o restante do processo, para que sejam apresentadas todas as parcelas do financiamento."
   ]
  },
  {
   "cell_type": "code",
   "execution_count": 3,
   "metadata": {},
   "outputs": [
    {
     "name": "stdout",
     "output_type": "stream",
     "text": [
      "200.00 202.00 204.02 206.06 208.12 "
     ]
    }
   ],
   "source": [
    "#include <stdio.h>\n",
    "\n",
    "double proximaParcela(double S, int N, double J) {\n",
    "    if (N == 1) {\n",
    "        return S;\n",
    "    }\n",
    "    else {\n",
    "        return proximaParcela(S, N-1, J) * (1 + J/100);\n",
    "    }\n",
    "}\n",
    "\n",
    "int main () {\n",
    "    double S = 200;\n",
    "    int N = 5;\n",
    "    double J = 1;\n",
    "    for (int i = 1; i <= N; i++){\n",
    "        printf(\"%.2f \", proximaParcela(S, i, J));\n",
    "    }\n",
    "    return 0;\n",
    "}"
   ]
  },
  {
   "cell_type": "markdown",
   "metadata": {
    "tags": []
   },
   "source": [
    "## Exercício Parte 3 - Minimizando os Parâmetros\n",
    "\n",
    "Na solução anterior, você deve ter usado vários parâmetros para a comunicação entre o `main` com a função `proximaParcela`, evitando usar variáveis globais. Modifique a forma como você representa o empréstimo, de forma que a função `proximaParcela` receba sempre um único parâmetro capaz de representar todos os valores que estejam relacionados a um empréstimo."
   ]
  },
  {
   "cell_type": "code",
   "execution_count": 4,
   "metadata": {},
   "outputs": [
    {
     "name": "stdout",
     "output_type": "stream",
     "text": [
      "200.00 202.00 204.02 206.06 208.12 "
     ]
    }
   ],
   "source": [
    "#include <stdio.h>\n",
    "\n",
    "struct data {\n",
    "    double S;\n",
    "    int N;\n",
    "    double J;\n",
    "};\n",
    "\n",
    "double proximaParcela(struct data parametro) {\n",
    "    if (parametro.N == 1) {\n",
    "        return parametro.S;\n",
    "    }\n",
    "    else {\n",
    "        parametro.N--;\n",
    "        return proximaParcela(parametro) * (1 + parametro.J/100);\n",
    "    }\n",
    "}\n",
    "\n",
    "int main () {\n",
    "    struct data parametro;\n",
    "    parametro.S = 200;\n",
    "    parametro.J = 1;\n",
    "    for (int i = 1; i <= 5; i++){\n",
    "        parametro.N = i;\n",
    "        printf(\"%.2f \", proximaParcela(parametro));\n",
    "    }\n",
    "    return 0;\n",
    "}"
   ]
  },
  {
   "cell_type": "markdown",
   "metadata": {},
   "source": [
    "## Exercício Parte 4 - Mantendo o Estado\n",
    "\n",
    "A função que você codificou na solução anterior provavelmente não é capaz de manter o controle do que chamaremos de **estado do empréstimo**, ou seja, dados de qual a parcela corrente ou da última parcela calculada.\n",
    "\n",
    "Modifique a função (módulo) `proximaParcela` acima de modo que ela seja capaz de guardar o **estado do empréstimo** por sua conta, sem que o `main` precise ficar informando este estado por parâmetros (por exemplo). Para isso serão permitidas as seguintes modificações:\n",
    "\n",
    "1. você pode desmembrar a função em mais de uma, por exemplo, uma você chama no começo do empréstimo e outra a cada parcela;\n",
    "\n",
    "2. você pode usar técnicas de uso de variáveis não recomendadas que geram dependência das funções com o programa em que ela está inserida.\n",
    "\n",
    "Você deve organizar o código de tal maneira que o `main` informe para as funções os dados do financiamento apenas uma única vez e depois possa solicitar o cálculo da parcela subsequente sem informar tudo novamente. O ideal é que o main não tenha acesso ao modo como as funções vão representar o **estado do empréstimo**, para que toda a lógica do empréstimo fique dentro das funções."
   ]
  },
  {
   "cell_type": "code",
   "execution_count": 5,
   "metadata": {},
   "outputs": [
    {
     "name": "stdout",
     "output_type": "stream",
     "text": [
      "200.00 202.00 204.02 206.06 208.12 "
     ]
    }
   ],
   "source": [
    "#include <stdio.h>\n",
    "#include <stdlib.h>\n",
    "\n",
    "struct data { \n",
    "    double S;\n",
    "    int N; \n",
    "    double J; \n",
    "    struct data * anterior; \n",
    "};\n",
    "\n",
    "struct data * estado; //estado aponta para o último elemento inserido em uma lista ligada de structs data.\n 
    "//Cada struct dessas representa uma das parcelas do empréstimo, de modo que a lista armazena todos os dados do empréstimo\n",
    "\n",
    "double buscarParcela(int i) { //retorna o valor da iésima parcela do empréstimo\n",
    "    struct data * aux = estado;\n",
    "    while (aux->N > i) {\n",
    "        aux = aux->anterior;\n",
    "    }\n",
    "    double value = aux->S;\n",
    "    /*\n",
    "    Segundo o laço for em main(), acessaremos apenas elementos da lista posteriores a aux nas próximas chamadas de buscarParcela.\n",
    "    Isso permite liberarmos agora a memória utilizada para a struct apontada por aux. Essa dependência de buscarParcela com main não é uma\n",
    "    boa prática, mas foi autorizada na descrição do exercício.\n",
    "    */\n",
    "    free(aux);\n",
    "    return value;\n",
    "}\n",
    "\n",
    "struct data * registrarParcelas(struct data parametro) { //recebe os dados do empréstimo e registra recursivamente as parcelas no estado\n",
    "    struct data * new = malloc(sizeof(struct data));\n",
    "    new->J = parametro.J;\n",
    "    new->N = parametro.N;\n",
    "    if (parametro.N == 1) {\n",
    "        new->anterior = NULL;\n",
    "        new->S = parametro.S;\n",
    "    }\n",
    "    else {\n",
    "        parametro.N--;\n",
    "        new->anterior = registrarParcelas(parametro);\n",
    "        new->S = (new->anterior)->S * (1 + parametro.J/100);\n",
    "    }\n",
    "    estado = new;\n",
    "    return new;\n",
    "}\n",
    "\n",
    "int main () {\n",
    "    struct data parametro;\n",
    "    parametro.S = 200;\n",
    "    parametro.J = 1;\n",
    "    parametro.N = 5;\n",
    "    registrarParcelas(parametro);\n",
    "    for (int i = 1; i <= parametro.N; i++) {\n",
    "        printf(\"%.2lf \", buscarParcela(i));\n",
    "    }\n",
    "    return 0;\n",
    "}"
   ]
  },
  {
   "cell_type": "markdown",
   "metadata": {},
   "source": [
    "## Exercício Parte 5 - Múltiplos Empréstimos\n",
    "\n",
    "Considere que há múltiplos empréstimos que podem ser controlados em paralelo. A sua função `main` deve ser capaz de apresentar no console as parcelas de mais de um empréstimo de modo paralelo, mantendo um controle para cada **estado de empréstimo** separadamente. Você deve decidir qual das soluções tomará como ponto de partida, se deve modificar a função `main`, as funções de cálculo do empréstimo ou ambas para atender esse requisito da melhor forma possível.\n",
    "\n",
    "Adote uma solução compacta e generalizável, de tal modo que comporte até 100 empréstimo e, cada novo empréstimo, só exija a informação dos parâmetros de partida, sem expansão do código.\n",
    "\n",
    "Por exemplo, suponha os seguintes dois empréstimos em paralelo:\n",
    "\n",
    "### Empréstimo 1\n",
    "* `S`: 200\n",
    "* `N`: 5\n",
    "* `J`: 1%\n",
    "\n",
    "### Empréstimo 2\n",
    "* `S`: 500\n",
    "* `N`: 7\n",
    "* `J`: 2%\n",
    "\n",
    "A saída esperada é:\n",
    "~~~\n",
    "Emprestimo 1: parcela 1 eh 200.00\n",
    "Emprestimo 2: parcela 1 eh 500.00\n",
    "Emprestimo 1: parcela 2 eh 202.00\n",
    "Emprestimo 2: parcela 2 eh 510.00\n",
    "Emprestimo 1: parcela 3 eh 204.02\n",
    "Emprestimo 2: parcela 3 eh 520.20\n",
    "Emprestimo 1: parcela 4 eh 206.06\n",
    "Emprestimo 2: parcela 4 eh 530.60\n",
    "Emprestimo 1: parcela 5 eh 208.12\n",
    "Emprestimo 2: parcela 5 eh 541.22\n",
    "Emprestimo 2: parcela 6 eh 552.04\n",
    "Emprestimo 2: parcela 7 eh 563.08\n",
    "~~~\n",
    "\n",
    "O exemplo mostra dois empréstimos, mas a estrutura deve ser genérica o suficiente para controlar N empréstimos em paralelo (até o limite de 100).\n",
    "\n",
    "O seu programa deve apresentar o exemplo acima como teste."
   ]
  },
  {
   "cell_type": "code",
   "execution_count": 1,
   "metadata": {},
   "outputs": [
    {
     "name": "stdout",
     "output_type": "stream",
     "text": [
      "Emprestimo 1 : Parcela 1 eh 300.00\n",
      "Emprestimo 2 : Parcela 1 eh 500.00\n",
      "Emprestimo 1 : Parcela 2 eh 303.00\n",
      "Emprestimo 2 : Parcela 2 eh 510.00\n",
      "Emprestimo 1 : Parcela 3 eh 306.03\n",
      "Emprestimo 2 : Parcela 3 eh 520.20\n",
      "Emprestimo 1 : Parcela 4 eh 309.09\n",
      "Emprestimo 2 : Parcela 4 eh 530.60\n",
      "Emprestimo 1 : Parcela 5 eh 312.18\n",
      "Emprestimo 2 : Parcela 5 eh 541.22\n",
      "Emprestimo 2 : Parcela 6 eh 552.04\n",
      "Emprestimo 2 : Parcela 7 eh 563.08\n"
     ]
    }
   ],
   "source": [
    "#include <stdio.h>\n",
    "#include <stdlib.h>\n",
    "\n",
    "struct data { \n",
    "    double S;\n",
    "    int N; \n",
    "    double J; \n",
    "    struct data * anterior; \n",
    "    int numero_emprestimo; //agora, o programa também leva em conta qual é o empréstimo em questão\n",
    "};\n",
    "\n",
    "struct data * estado[100]; //ao invés de uma lista ligada, teremos um vetor de listas ligadas, onde cada lista representa os estados de um empréstimo\n",
    "\n",
    "double buscarParcela(int numero_parcela, int numero_emprestimo) { //retorna o valor da iésima parcela do empréstimo\n",
    "    if (estado[numero_emprestimo] == NULL || estado[numero_emprestimo]->N < numero_parcela) {\n",
    "        return -1; //retorna-se -1, que representa que a parcela buscada não existe no empréstimo\n",
    "    }\n",
    "    struct data * aux = estado[numero_emprestimo];\n",
    "    while (aux->N > numero_parcela) {\n",
    "        aux = aux->anterior;\n",
    "    }\n",
    "    double value = aux->S;\n",
    "    /*\n",
    "    Segundo o laço for em main(), acessaremos apenas elementos da lista posteriores a aux nas próximas chamadas de buscarParcela.\n",
    "    Isso permite liberarmos agora a memória utilizada para a struct apontada por aux. Essa dependência de buscarParcela com main não é uma\n",
    "    boa prática, mas foi autorizada na descrição do exercício.\n",
    "    */\n",
    "    free(aux);\n",
    "    return value;\n",
    "}\n",
    "\n",
    "struct data * registrarParcelas(struct data parametro) { //recebe os dados do empréstimo e registra recursivamente as parcelas no estado\n",
    "    struct data * new = malloc(sizeof(struct data));\n",
    "    new->J = parametro.J;\n",
    "    new->N = parametro.N;\n",
    "    new->numero_emprestimo = parametro.numero_emprestimo;\n",
    "    if (parametro.N == 1) {\n",
    "        new->anterior = NULL;\n",
    "        new->S = parametro.S;\n",
    "    }\n",
    "    else {\n",
    "        parametro.N--;\n",
    "        new->anterior = registrarParcelas(parametro);\n",
    "        new->S = (new->anterior)->S * (1 + parametro.J/100);\n",
    "    }\n",
    "    estado[new->numero_emprestimo] = new;\n",
    "    return new;\n",
    "}\n",
    "\n",
    "int main () {\n",
    "    int dar_break, numero_parcela = 1;\n",
    "    double valor_parcela;\n",
    "\n",
    "    int numero_emprestimos = 2;\n",
    "\n",
    "    struct data emprestimo1;\n",
    "    emprestimo1.S = 300;\n",
    "    emprestimo1.N = 5;\n",
    "    emprestimo1.J = 1;\n",
    "    emprestimo1.numero_emprestimo = 0;\n",
    "    registrarParcelas(emprestimo1);\n",
    "\n",
    "    struct data emprestimo2;\n",
    "    emprestimo2.S = 500;\n",
    "    emprestimo2.N = 7;\n",
    "    emprestimo2.J = 2;\n",
    "    emprestimo2.numero_emprestimo = 1;\n",
    "    registrarParcelas(emprestimo2);\n",
    "\n",
    "    while (1) { //enquanto houverem parcelas a serem printadas...\n",
    "        dar_break = 1;\n",
    "        for (int i=0; i<numero_emprestimos; i++) {\n",
    "            valor_parcela = buscarParcela(numero_parcela, i); //busca-se a parcela do empréstimo i\n",
    "            if (valor_parcela > 0) {\n",
    "                dar_break = 0;\n",
    "                printf(\"Emprestimo %d : Parcela %d eh %.2lf\\n\", i+1, numero_parcela, valor_parcela);\n",
    "            }\n",
    "        }\n",
    "        if (dar_break) { //se dar_break == 1, então não ocorreu a impressão de nenhuma parcela nova e podemos encerrar o while\n",
    "            break;\n",
    "        }\n",
    "        numero_parcela++;\n",
    "    }\n",
    "    return 0;\n",
    "}"
   ]
  },
  {
   "cell_type": "code",
   "execution_count": null,
   "metadata": {},
   "outputs": [],
   "source": []
  }
 ],
 "metadata": {
  "kernelspec": {
   "display_name": "C",
   "language": "c",
   "name": "c"
  },
  "language_info": {
   "file_extension": ".c",
   "mimetype": "text/plain",
   "name": "c"
  }
 },
 "nbformat": 4,
 "nbformat_minor": 4
}
