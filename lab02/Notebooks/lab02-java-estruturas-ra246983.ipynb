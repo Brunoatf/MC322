{
 "cells": [
  {
   "cell_type": "markdown",
   "metadata": {},
   "source": [
    "# Laboratório em Estruturas de Programação Java\n",
    "\n",
    "O laboratório a seguir serve para praticar estruturas de programação Java sem compromisso com a orientação a objetos."
   ]
  },
  {
   "cell_type": "markdown",
   "metadata": {},
   "source": [
    "## Desafio 1 - Empréstimo\n",
    "\n",
    "Em um financiamento com juros compostos e número de parcelas fixas parte-se dos seguintes parâmetros:\n",
    "* `S` - valor da primeira parcela\n",
    "* `N` - número de parcelas\n",
    "* `J` - percentual de juros mensal\n",
    "\n",
    "A primeira parcela a ser paga do financiamento é sempre igual a `S`. A partir daí é feita uma atualização mensal da parcela, em que cada nova parcela é calculada a partir da parcela do mês anterior, conforme a fórmula:\n",
    "\n",
    "> Parcela<sub>mês</sub> = Parcela<sub>mês-1</sub> * (1 + `J` / 100)\n",
    "\n",
    "O financiamento encerra quando as `N` parcelas são pagas.\n",
    "\n",
    "Exemplo:\n",
    "* `S`: 200\n",
    "* `N`: 5\n",
    "* `J`: 1%\n",
    "\n",
    "Parcelas do financiamento:\n",
    "`200`; `202`; `204.02`; `206.06`; `208.12`"
   ]
  },
  {
   "cell_type": "markdown",
   "metadata": {},
   "source": [
    "### Desafio 1 / Parte 1 - Escrevendo o programa sem módulos\n",
    "\n",
    "Dado o problema descrito, escreva um programa que calcule as parcelas de um empréstimo para os seguintes valores:\n",
    "* S: 200\n",
    "* N: 5\n",
    "* J: 1%\n",
    "\n",
    "Nesta versão não use outro módulo além da função principal."
   ]
  },
  {
   "cell_type": "code",
   "execution_count": 26,
   "metadata": {},
   "outputs": [
    {
     "name": "stdout",
     "output_type": "stream",
     "text": [
      "200.00 202.00 204.02 206.06 208.12 "
     ]
    },
    {
     "data": {
      "text/plain": [
       "null"
      ]
     },
     "execution_count": 26,
     "metadata": {},
     "output_type": "execute_result"
    }
   ],
   "source": [
    "double S = 200;\n",
    "int N = 5;\n",
    "double J = 1;\n",
    "double valor = S;\n",
    "for (int i=0; i<N; i++) {\n",
    "    System.out.printf(\"%.2f \", valor);\n",
    "    valor = valor * (1 + J/100);\n",
    "}"
   ]
  },
  {
   "cell_type": "markdown",
   "metadata": {},
   "source": [
    "### Desafio 1 / Parte 2 - Escrevendo módulos\n",
    "\n",
    "Reescreva o código acima de forma que seu programa faça uso de uma função que seja responsável pelo cálculo de uma parcela X do empréstimo. Podem ser usadas mais funções (métodos) conforme a necessidade."
   ]
  },
  {
   "cell_type": "code",
   "execution_count": 2,
   "metadata": {
    "scrolled": true
   },
   "outputs": [
    {
     "data": {
      "text/plain": [
       "com.twosigma.beaker.javash.bkr8ec210c7.Emprestimo"
      ]
     },
     "execution_count": 2,
     "metadata": {},
     "output_type": "execute_result"
    }
   ],
   "source": [
    "public class Emprestimo {\n",
    "    \n",
    "    static double proximaParcela(double S, int N, double J) {\n",
    "        if (N == 1)\n",
    "            return S;\n",
    "        else\n",
    "            return proximaParcela(S, N-1, J) * (1 + J/100);\n",
    "    }\n",
    "    \n",
    "}\n"
   ]
  },
  {
   "cell_type": "code",
   "execution_count": 3,
   "metadata": {},
   "outputs": [
    {
     "name": "stdout",
     "output_type": "stream",
     "text": [
      "200.00 202.00 204.02 206.06 208.12 "
     ]
    },
    {
     "data": {
      "text/plain": [
       "null"
      ]
     },
     "execution_count": 3,
     "metadata": {},
     "output_type": "execute_result"
    }
   ],
   "source": [
    "double S = 200;\n",
    "int N = 5;\n",
    "double J = 1;\n",
    "\n",
    "for (int i = 1; i <= N; i++)\n",
    "    System.out.printf(\"%.2f \", Emprestimo.proximaParcela(S, i, J));"
   ]
  },
  {
   "cell_type": "markdown",
   "metadata": {},
   "source": [
    "## Desafio 2\n",
    "\n",
    "Escreva um programa que sorteie um número inteiro entre `0` e `9999` o número deve ser mostrado, em seguida convertido para binário e a versão binária deve ser apresentada no console. A conversão decimal/binário deve ser computada por um programa feito por você."
   ]
  },
  {
   "cell_type": "code",
   "execution_count": 2,
   "metadata": {},
   "outputs": [
    {
     "data": {
      "text/plain": [
       "com.twosigma.beaker.javash.bkr59d68c53.Binario"
      ]
     },
     "execution_count": 2,
     "metadata": {},
     "output_type": "execute_result"
    }
   ],
   "source": [
    "public class Binario {\n",
    "    \n",
    "    public static void converterInt(int valor) {\n",
    "        String saida = \"\";\n",
    "        int indice = 0;\n",
    "        while (valor != 0) {\n",
    "            saida = (valor % 2) + saida;\n",
    "            indice++;\n",
    "            valor = valor / 2;\n",
    "        }\n",
    "        System.out.print(saida);\n",
    "    }\n",
    "}"
   ]
  },
  {
   "cell_type": "code",
   "execution_count": 6,
   "metadata": {},
   "outputs": [
    {
     "name": "stdout",
     "output_type": "stream",
     "text": [
      "1010100100100"
     ]
    },
    {
     "data": {
      "text/plain": [
       "null"
      ]
     },
     "execution_count": 6,
     "metadata": {},
     "output_type": "execute_result"
    }
   ],
   "source": [
    "import java.util.Random;\n",
    "\n",
    "Random rand = new Random();\n",
    "\n",
    "Binario.converterInt(rand.nextInt(10000));"
   ]
  },
  {
   "cell_type": "markdown",
   "metadata": {},
   "source": [
    "## Desafio 3\n",
    "\n",
    "Uma molécula de DNA pode ser definida a partir de uma cadeia que representa a sequência de suas bases:\n",
    "A - Adenina\n",
    "C - Citisina\n",
    "G - Guanina\n",
    "T - Tinina\n",
    "\n",
    "Desse modo, uma string pode ser usada para representar um segmento do DNA da seguinte maneira: `ATTACGCGCAAAC`.\n",
    "\n",
    "Escreva uma função (método) que codifique a cadeia de RNA produzida a partir de uma cadeia de DNA. A função deve ser genérica o suficiente para ser aplicável a qualquer cadeia. A entrada é uma string (DNA) e o retorno é uma string (RNA).\n",
    "\n",
    "Escreva um programa que teste esta função com uma cadeia de DNA de sua escolha."
   ]
  },
  {
   "cell_type": "code",
   "execution_count": 23,
   "metadata": {},
   "outputs": [
    {
     "data": {
      "text/plain": [
       "com.twosigma.beaker.javash.bkr7c743d41.DNA"
      ]
     },
     "execution_count": 23,
     "metadata": {},
     "output_type": "execute_result"
    }
   ],
   "source": [
    "public class DNA {\n",
    "    \n",
    "    public static String converterDNA(String DNA) {\n",
    "        String RNA = \"\";\n",
    "        for (int i=0; i<DNA.length(); i++) {\n",
    "            switch (DNA.charAt(i)) {\n",
    "                case 'A' : RNA += 'U'; break;\n",
    "                case 'C' : RNA += 'G'; break;\n",
    "                case 'G' : RNA += 'C'; break;\n",
    "                case 'T' : RNA += 'A'; break;\n",
    "            }\n",
    "        }\n",
    "        return RNA;\n",
    "    }\n",
    "        \n",
    "}"
   ]
  },
  {
   "cell_type": "code",
   "execution_count": 24,
   "metadata": {},
   "outputs": [
    {
     "name": "stdout",
     "output_type": "stream",
     "text": [
      "UAAUGCGCGUUUG"
     ]
    },
    {
     "data": {
      "text/plain": [
       "null"
      ]
     },
     "execution_count": 24,
     "metadata": {},
     "output_type": "execute_result"
    }
   ],
   "source": [
    "System.out.print(DNA.converterDNA(\"ATTACGCGCAAAC\"));"
   ]
  },
  {
   "cell_type": "markdown",
   "metadata": {},
   "source": [
    "## Desafio 4\n",
    "\n",
    "Uma empresa precisa realizar uma estatística do salário de seus funcionários.\n",
    "\n",
    "Para fins de teste, os salários devem ser gerados aleatoriamente com valores variando entre R\\\\$ 2.500 e R\\\\$ 15.000.\n",
    "\n",
    "Escreva um programa que gere uma lista contendo os salários de 50 funcionários da empresa e mostre no console quantos funcionários ganham salário acima da média."
   ]
  },
  {
   "cell_type": "code",
   "execution_count": 18,
   "metadata": {},
   "outputs": [
    {
     "name": "stdout",
     "output_type": "stream",
     "text": [
      "26"
     ]
    },
    {
     "data": {
      "text/plain": [
       "null"
      ]
     },
     "execution_count": 18,
     "metadata": {},
     "output_type": "execute_result"
    }
   ],
   "source": [
    "import java.util.Random;\n",
    "\n",
    "Random rand = new Random();\n",
    "\n",
    "double salarios[] = new double[50];\n",
    "double media = 0;\n",
    "int numeroAcimaMedia = 0;\n",
    "\n",
    "for (int i=0; i<50; i++) {\n",
    "    salarios[i] = 2500 + rand.nextDouble() * 12500; //obteremos um número real aleatório entre 2500 e 12500\n",
    "    media += salarios[i]/50;\n",
    "}\n",
    "    \n",
    "for (int i=0; i<50; i++) {\n",
    "    if (salarios[i] > media)\n",
    "        numeroAcimaMedia++;\n",
    "}\n",
    "\n",
    "System.out.print(numeroAcimaMedia);\n"
   ]
  }
 ],
 "metadata": {
  "kernelspec": {
   "display_name": "Java",
   "language": "java",
   "name": "java"
  },
  "language_info": {
   "codemirror_mode": "text/x-java",
   "file_extension": ".java",
   "mimetype": "",
   "name": "Java",
   "nbconverter_exporter": "",
   "version": "1.8.0_121"
  },
  "toc": {
   "base_numbering": 1,
   "nav_menu": {},
   "number_sections": false,
   "sideBar": false,
   "skip_h1_title": false,
   "title_cell": "Table of Contents",
   "title_sidebar": "Contents",
   "toc_cell": false,
   "toc_position": {},
   "toc_section_display": false,
   "toc_window_display": false
  }
 },
 "nbformat": 4,
 "nbformat_minor": 4
}
